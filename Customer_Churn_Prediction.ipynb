{
  "nbformat": 4,
  "nbformat_minor": 0,
  "metadata": {
    "colab": {
      "provenance": []
    },
    "kernelspec": {
      "name": "python3",
      "display_name": "Python 3"
    },
    "language_info": {
      "name": "python"
    }
  },
  "cells": [
    {
      "cell_type": "code",
      "execution_count": 1,
      "metadata": {
        "colab": {
          "base_uri": "https://localhost:8080/"
        },
        "id": "CLK9Q1ROKiTu",
        "outputId": "1ff7e2e3-7b41-4d4e-dbd6-2b0d47091e9b"
      },
      "outputs": [
        {
          "output_type": "stream",
          "name": "stdout",
          "text": [
            "Aggregated data (average age and tenure of churned vs non-churned customers):\n",
            "    churn        age    tenure\n",
            "0      0  40.313725  5.058824\n",
            "1      1  39.938776  5.795918\n",
            "Training set size: (80, 2)\n",
            "Testing set size: (20, 2)\n",
            "Accuracy of the Logistic Regression model: 0.70\n"
          ]
        }
      ],
      "source": [
        "# Import necessary libraries\n",
        "import pandas as pd\n",
        "import numpy as np\n",
        "from sklearn.model_selection import train_test_split\n",
        "from sklearn.linear_model import LogisticRegression\n",
        "from sklearn.metrics import accuracy_score\n",
        "\n",
        "# Step 1: Create a sample customer dataset\n",
        "data = {\n",
        "    'customer_id': np.arange(1, 101),  # 100 customers\n",
        "    'age': np.random.randint(18, 65, size=100),\n",
        "    'tenure': np.random.randint(1, 10, size=100),\n",
        "    'churn': np.random.choice([0, 1], size=100)  # 0: No churn, 1: Churn\n",
        "}\n",
        "\n",
        "# Load the data into a pandas DataFrame\n",
        "df = pd.DataFrame(data)\n",
        "\n",
        "# Step 2: Data Aggregation - Calculate average age and tenure of churned vs non-churned customers\n",
        "churn_agg = df.groupby('churn').agg({\n",
        "    'age': 'mean',\n",
        "    'tenure': 'mean'\n",
        "}).reset_index()\n",
        "\n",
        "print(\"Aggregated data (average age and tenure of churned vs non-churned customers):\\n\", churn_agg)\n",
        "\n",
        "# Step 3: Data Splitting\n",
        "# Features (X) are age and tenure, Target (y) is churn\n",
        "X = df[['age', 'tenure']]\n",
        "y = df['churn']\n",
        "\n",
        "# Split the dataset into training (80%) and testing (20%) sets\n",
        "X_train, X_test, y_train, y_test = train_test_split(X, y, test_size=0.2, random_state=42)\n",
        "\n",
        "print(\"Training set size:\", X_train.shape)\n",
        "print(\"Testing set size:\", X_test.shape)\n",
        "\n",
        "# Step 4: Model Training - Using Logistic Regression for classification\n",
        "model = LogisticRegression()\n",
        "\n",
        "# Train the model\n",
        "model.fit(X_train, y_train)\n",
        "\n",
        "# Predict on the test set\n",
        "y_pred = model.predict(X_test)\n",
        "\n",
        "# Step 5: Evaluate model performance using accuracy\n",
        "accuracy = accuracy_score(y_test, y_pred)\n",
        "print(f\"Accuracy of the Logistic Regression model: {accuracy:.2f}\")"
      ]
    }
  ]
}